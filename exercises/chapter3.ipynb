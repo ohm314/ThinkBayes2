{
 "cells": [
  {
   "cell_type": "code",
   "execution_count": 25,
   "metadata": {},
   "outputs": [],
   "source": [
    "import sys\n",
    "sys.path.append('../thinkbayes2/')\n",
    "from thinkbayes2 import Pmf, Suite\n",
    "import matplotlib.pyplot as plt"
   ]
  },
  {
   "cell_type": "markdown",
   "metadata": {},
   "source": [
    "## Rolling dice\n",
    "\n",
    "We want to model rolling 5 dice of different sizes.\n",
    "\n",
    "What is the chance that we have rolled a n-sided die given we rolled a 6?\n",
    "\n",
    "The hypothesis (prior) is: \"it's a n-sided die\"\n",
    "the data is: \"we rolled a k\"\n",
    "\n",
    "The likelihood P(D|H) is: 1/n for any k (unless k > n)"
   ]
  },
  {
   "cell_type": "code",
   "execution_count": 7,
   "metadata": {},
   "outputs": [],
   "source": [
    "class Dice(Suite):\n",
    "    \n",
    "    def Likelihood(self, data, hypo):\n",
    "        if data > hypo:\n",
    "            return 0\n",
    "        else:\n",
    "            return 1.0/hypo"
   ]
  },
  {
   "cell_type": "code",
   "execution_count": 9,
   "metadata": {},
   "outputs": [
    {
     "name": "stdout",
     "output_type": "stream",
     "text": [
      "4 0.0\n",
      "6 0.3921568627450981\n",
      "8 0.29411764705882354\n",
      "12 0.19607843137254904\n",
      "20 0.11764705882352944\n"
     ]
    }
   ],
   "source": [
    "dice = Dice([4, 6, 8, 12, 20])\n",
    "dice.Update(6)\n",
    "dice.Print()"
   ]
  },
  {
   "cell_type": "markdown",
   "metadata": {},
   "source": [
    "$P(H | D) = \\frac{P(H)P(D | H)}{P(D)}$"
   ]
  },
  {
   "cell_type": "markdown",
   "metadata": {},
   "source": [
    "## Multiple rolls of the dice\n",
    "\n",
    "We keep updating the same Suite with each roll to find the chance of doing k-rolls of certain sides."
   ]
  },
  {
   "cell_type": "code",
   "execution_count": 13,
   "metadata": {},
   "outputs": [
    {
     "name": "stdout",
     "output_type": "stream",
     "text": [
      "4 0.0\n",
      "6 0.0\n",
      "8 0.9158452719690099\n",
      "12 0.08040342579700499\n",
      "20 0.003751302233985067\n"
     ]
    }
   ],
   "source": [
    "dice = Dice([4, 6, 8, 12, 20])\n",
    "for roll in [6, 8, 7, 7, 5, 4]:\n",
    "    dice.Update(roll)\n",
    "dice.Print()"
   ]
  },
  {
   "cell_type": "markdown",
   "metadata": {},
   "source": [
    "## locomotive problem\n",
    "\n",
    "A railroad company has N locomotives, which they number $1..N$. Given I see one day a locomotive with number 60, estimate the number of locomotives.\n",
    "\n",
    "* $p(H)$ is the probability of the hypothesis before we see the data, called the prior probability, or just **prior**.\n",
    "* $p(H|D)$ is what we want to compute, the probability of the hypothesis after we see the data, called the **posterior**.\n",
    "* $p(D|H)$ is the probability of the data under the hypothesis, called the **likelihood**.\n",
    "* $p(D)$ is the probability of the data under any hypothesis, called the **normalizing constant**.\n",
    "\n",
    "We can choose _informative_ and _uninformative_ priors. Informative priors will use additional information on the distribution of the priors, better modelling it. This information (provided through guesses, experts, ...) may seem subjective.  Uninformative priors can be sometimes the better choice because they let the data speak for themselves. Prior can be chosen to have desirable properties such as represnting minimal prior information on the estimated quantity\n",
    "\n",
    "From teh book:\n",
    "\n",
    "> Uninformative priors are appealing because they seem more objective. But I am generally in favor of using informative priors. Why? First, Bayesian analysis is always based on modeling decisions. Choosing the prior is one of those decisions, but it is not the only one, and it might not even be the most subjective. So even if an uninformative prior is more objective, the entire analysis is still subjective."
   ]
  },
  {
   "cell_type": "code",
   "execution_count": 28,
   "metadata": {},
   "outputs": [],
   "source": [
    "class Locomotives(Suite):\n",
    "    \n",
    "    def __init__(self, hypos, alpha=1.0):\n",
    "        Pmf.__init__(self)\n",
    "        for hypo in hypos:\n",
    "            # use the powerlaw for the distribution of priors. The assumption comes\n",
    "            # from the reported powerlaw distribution of company sizes.\n",
    "            self.Set(hypo, hypo**(-alpha))\n",
    "        self.Normalize()\n",
    "        \n",
    "    def Likelihood(self, data, hypo):\n",
    "        if data <= hypo:\n",
    "            return 1.0/hypo\n",
    "        else:\n",
    "            return 0.0"
   ]
  },
  {
   "cell_type": "code",
   "execution_count": 42,
   "metadata": {},
   "outputs": [
    {
     "data": {
      "text/plain": [
       "Text(0,0.5,'P(H|D)')"
      ]
     },
     "execution_count": 42,
     "metadata": {},
     "output_type": "execute_result"
    },
    {
     "data": {
      "image/png": "[encoded data removed]",
      "text/plain": [
       "<Figure size 432x288 with 1 Axes>"
      ]
     },
     "metadata": {},
     "output_type": "display_data"
    }
   ],
   "source": [
    "hypos = range(1,1001)\n",
    "loco = Locomotives(hypos)\n",
    "loco.Update(30)\n",
    "loco.Update(60)\n",
    "loco.Update(90)\n",
    "pmf = loco.Probs(hypos)\n",
    "plt.plot(hypos, pmf)\n",
    "meansz = loco.Mean()\n",
    "plt.vlines(meansz, 0, 0.1, 'k')\n",
    "plt.ylim([0, 0.04])\n",
    "\n",
    "# alternative\n",
    "hypos_alt = range(1,2001)\n",
    "loco_alt = Locomotives(hypos_alt)\n",
    "loco_alt.Update(30)\n",
    "loco_alt.Update(60)\n",
    "loco_alt.Update(90)\n",
    "pmf2 = loco_alt.Probs(hypos_alt)\n",
    "plt.plot(hypos_alt, pmf2)\n",
    "meansz2 = loco_alt.Mean()\n",
    "plt.vlines(meansz2, 0, 0.1, 'k')\n",
    "plt.xlabel('# locomotives given observed data')\n",
    "plt.ylabel('P(H|D)')"
   ]
  },
  {
   "cell_type": "markdown",
   "metadata": {},
   "source": [
    "We see that with the powerlaw distribution for the prior and three observations (|data|) that for different maximum size of company we get very similar expected value on the posterior (# locomotoves that the company owns given the data)."
   ]
  },
  {
   "cell_type": "code",
   "execution_count": 40,
   "metadata": {},
   "outputs": [
    {
     "data": {
      "text/plain": [
       "0.95"
      ]
     },
     "execution_count": 40,
     "metadata": {},
     "output_type": "execute_result"
    }
   ],
   "source": [
    "95/100"
   ]
  },
  {
   "cell_type": "markdown",
   "metadata": {},
   "source": [
    "## intervals\n",
    "\n",
    "we can calculate easily confidence intervals on the posterior distribution"
   ]
  },
  {
   "cell_type": "code",
   "execution_count": 44,
   "metadata": {},
   "outputs": [
    {
     "name": "stdout",
     "output_type": "stream",
     "text": [
      "(91, 242)\n"
     ]
    }
   ],
   "source": [
    "def Percentile(pmf, percentage):\n",
    "    maxp = percentage / 100.0\n",
    "    tot = 0.0\n",
    "    for val, prob in pmf.Items():\n",
    "        tot += prob\n",
    "        if tot >= maxp:\n",
    "            return val\n",
    "        \n",
    "interval = Percentile(loco, 5.0), Percentile(loco, 95.0)\n",
    "print(interval)"
   ]
  },
  {
   "cell_type": "code",
   "execution_count": 45,
   "metadata": {},
   "outputs": [
    {
     "name": "stdout",
     "output_type": "stream",
     "text": [
      "(91, 242)\n"
     ]
    }
   ],
   "source": [
    "cdf = loco.MakeCdf()\n",
    "interval = cdf.Percentile(5), cdf.Percentile(95)\n",
    "print(interval)"
   ]
  },
  {
   "cell_type": "markdown",
   "metadata": {},
   "source": [
    "## Exercise 3.1: many companies"
   ]
  },
  {
   "cell_type": "code",
   "execution_count": null,
   "metadata": {},
   "outputs": [],
   "source": [
    "class Railroads(Locomotives):\n",
    "    \n",
    "    def Likelihood(self, data, hypo):\n",
    "        \n",
    "        if data <= hypo:\n",
    "            return 1.0/hypo\n",
    "        else:\n",
    "            return 0.0"
   ]
  }
 ],
 "metadata": {
  "kernelspec": {
   "display_name": "Python 3",
   "language": "python",
   "name": "python3"
  },
  "language_info": {
   "codemirror_mode": {
    "name": "ipython",
    "version": 3
   },
   "file_extension": ".py",
   "mimetype": "text/x-python",
   "name": "python",
   "nbconvert_exporter": "python",
   "pygments_lexer": "ipython3",
   "version": "3.6.5"
  }
 },
 "nbformat": 4,
 "nbformat_minor": 2
}
