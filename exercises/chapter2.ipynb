{
 "cells": [
  {
   "cell_type": "code",
   "execution_count": 2,
   "metadata": {},
   "outputs": [],
   "source": [
    "import sys\n",
    "sys.path.append('../thinkbayes2/')"
   ]
  },
  {
   "cell_type": "code",
   "execution_count": 23,
   "metadata": {},
   "outputs": [],
   "source": [
    "from thinkbayes2 import Pmf, Suite"
   ]
  },
  {
   "cell_type": "code",
   "execution_count": 7,
   "metadata": {},
   "outputs": [],
   "source": [
    "pmf = Pmf()\n",
    "for x in range(1, 7):\n",
    "    pmf.Set(x, 1/6)"
   ]
  },
  {
   "cell_type": "code",
   "execution_count": 8,
   "metadata": {},
   "outputs": [
    {
     "name": "stdout",
     "output_type": "stream",
     "text": [
      "0.16666666666666666\n"
     ]
    }
   ],
   "source": [
    "print(pmf.Prob(4))"
   ]
  },
  {
   "cell_type": "markdown",
   "metadata": {},
   "source": [
    "# the cookie problem"
   ]
  },
  {
   "cell_type": "code",
   "execution_count": 11,
   "metadata": {},
   "outputs": [],
   "source": [
    "pmf = Pmf()\n",
    "pmf.Set('Bowl 1', 0.5)\n",
    "pmf.Set('Bowl 2', 0.5)"
   ]
  },
  {
   "cell_type": "code",
   "execution_count": 12,
   "metadata": {},
   "outputs": [
    {
     "data": {
      "text/plain": [
       "0.625"
      ]
     },
     "execution_count": 12,
     "metadata": {},
     "output_type": "execute_result"
    }
   ],
   "source": [
    "pmf.Mult('Bowl 1', 0.75)\n",
    "pmf.Mult('Bowl 2', 0.5)\n",
    "pmf.Normalize()"
   ]
  },
  {
   "cell_type": "code",
   "execution_count": 13,
   "metadata": {},
   "outputs": [
    {
     "name": "stdout",
     "output_type": "stream",
     "text": [
      "0.6000000000000001\n"
     ]
    }
   ],
   "source": [
    "print(pmf.Prob('Bowl 1'))"
   ]
  },
  {
   "cell_type": "code",
   "execution_count": 69,
   "metadata": {},
   "outputs": [],
   "source": [
    "class Cookie(Pmf):\n",
    "    \n",
    "    def __init__(self, mixes):\n",
    "        self.mixes = mixes\n",
    "        Pmf.__init__(self)\n",
    "        for h in mixes.keys():\n",
    "            self.Set(h, 1)\n",
    "        self.Normalize()\n",
    "    \n",
    "    def update(self, data):\n",
    "        for hypo in self.Values():\n",
    "            likelihood = self.likelihood(data, hypo)\n",
    "            self.Mult(hypo, likelihood)\n",
    "        self.Normalize()\n",
    "    \n",
    "    def likelihood(self, data, hypo):\n",
    "        mix = self.mixes[hypo]\n",
    "        return mix[data]\n",
    "        "
   ]
  },
  {
   "cell_type": "code",
   "execution_count": 70,
   "metadata": {},
   "outputs": [
    {
     "name": "stdout",
     "output_type": "stream",
     "text": [
      "Bowl 1: 0.600000\n",
      "Bowl 2: 0.400000\n"
     ]
    }
   ],
   "source": [
    "mixes = {'Bowl 1': dict(vanilla=0.75, chocolate=0.25), \n",
    "         'Bowl 2': dict(vanilla=0.5, chocolate=0.5)}\n",
    "cookie = Cookie(mixes)\n",
    "cookie.update('vanilla')\n",
    "for hypo, prob in cookie.Items():\n",
    "    print('%s: %f'%(hypo, prob))"
   ]
  },
  {
   "cell_type": "markdown",
   "metadata": {},
   "source": [
    "# Monty Hall problem"
   ]
  },
  {
   "cell_type": "code",
   "execution_count": 53,
   "metadata": {},
   "outputs": [],
   "source": [
    "class Monty(Suite):\n",
    "    def Likelihood(self, data, hypo):\n",
    "        if hypo == data:\n",
    "            return 0\n",
    "        elif hypo == 'A':\n",
    "            return 0.5\n",
    "        else:\n",
    "            return 1"
   ]
  },
  {
   "cell_type": "code",
   "execution_count": 52,
   "metadata": {},
   "outputs": [
    {
     "name": "stdout",
     "output_type": "stream",
     "text": [
      "test\n",
      "test\n",
      "test\n",
      "A 0.3333333333333333\n",
      "B 0.0\n",
      "C 0.6666666666666666\n"
     ]
    }
   ],
   "source": [
    "suite = Monty('ABC')\n",
    "suite.Update('B')\n",
    "suite.Print()"
   ]
  },
  {
   "cell_type": "markdown",
   "metadata": {},
   "source": [
    "# M&M problem"
   ]
  },
  {
   "cell_type": "code",
   "execution_count": 63,
   "metadata": {},
   "outputs": [],
   "source": [
    "class MandMs(Suite):\n",
    "    def __init__(self, hypos):\n",
    "        Suite.__init__(self, hypos)\n",
    "        self.mix94 = dict(brown=30,\n",
    "                     yellow=20,\n",
    "                     red=20,\n",
    "                     green=10,\n",
    "                     orange=10,\n",
    "                     tan=10)\n",
    "        self.mix96 = dict(blue=24,\n",
    "                     green=20,\n",
    "                     orange=16,\n",
    "                     yellow=14,\n",
    "                     red=13,\n",
    "                     brown=13)\n",
    "        hypoA = dict(bag1=self.mix94, bag2=self.mix96)\n",
    "        hypoB = dict(bag1=self.mix96, bag2=self.mix94)\n",
    "        self.hypotheses = {hypos[0]: hypoA, hypos[1]: hypoB}\n",
    "\n",
    "    def Likelihood(self, data, hypo):\n",
    "        h = self.hypotheses[hypo]\n",
    "        l = h[data[0]][data[1]]\n",
    "        return l"
   ]
  },
  {
   "cell_type": "code",
   "execution_count": 64,
   "metadata": {},
   "outputs": [
    {
     "name": "stdout",
     "output_type": "stream",
     "text": [
      "A 0.7407407407407407\n",
      "B 0.2592592592592592\n"
     ]
    }
   ],
   "source": [
    "mm = MandMs('AB')\n",
    "mm.Update(['bag1', 'yellow'])\n",
    "mm.Update(['bag2', 'green'])\n",
    "\n",
    "mm.Print()"
   ]
  },
  {
   "cell_type": "markdown",
   "metadata": {},
   "source": [
    "# Exercise 2.1"
   ]
  },
  {
   "cell_type": "code",
   "execution_count": 93,
   "metadata": {},
   "outputs": [],
   "source": [
    "class Bowl:\n",
    "    \n",
    "    def __init__(self, cookies):\n",
    "        self.cookies = cookies\n",
    "    \n",
    "    def draw(self, flavor):\n",
    "        if flavor in self.cookies:\n",
    "            drawprob = self.cookies[flavor]/self.nmix()\n",
    "            self.cookies[flavor] -= 1\n",
    "            if self.cookies[flavor] == 0:\n",
    "                self.cookies.pop(flavor)\n",
    "            return drawprob\n",
    "        else:\n",
    "            return 0\n",
    "\n",
    "    def nmix(self):\n",
    "        return sum(self.cookies.values())\n",
    "    \n",
    "    def __str__(self):\n",
    "        return str(self.cookies)\n",
    "\n",
    "    \n",
    "class Cookie(Suite):\n",
    "    \n",
    "    def __init__(self, bowls):\n",
    "        self.bowls = bowls\n",
    "        Suite.__init__(self, bowls.keys())\n",
    "\n",
    "    def Likelihood(self, data, hypo):\n",
    "        l = self.bowls[hypo].draw(data)\n",
    "        return l\n",
    "        "
   ]
  },
  {
   "cell_type": "code",
   "execution_count": 95,
   "metadata": {},
   "outputs": [
    {
     "name": "stdout",
     "output_type": "stream",
     "text": [
      "bowl1 0.6000000000000001\n",
      "bowl2 0.4\n",
      "bowl1 0.4285714285714286\n",
      "bowl2 0.5714285714285714\n",
      "bowl1 0.2621359223300971\n",
      "bowl2 0.7378640776699028\n",
      "{'vanilla': 29, 'chocolate': 8}\n",
      "bowl1 0.13636363636363635\n",
      "bowl2 0.8636363636363635\n",
      "{'vanilla': 29, 'chocolate': 7}\n",
      "bowl1 0.06104651162790699\n",
      "bowl2 0.9389534883720931\n",
      "{'vanilla': 29, 'chocolate': 6}\n",
      "bowl1 0.023800528900642243\n",
      "bowl2 0.9761994710993579\n",
      "{'vanilla': 29, 'chocolate': 5}\n",
      "bowl1 0.008061420345489446\n",
      "bowl2 0.9919385796545106\n",
      "{'vanilla': 29, 'chocolate': 4}\n",
      "bowl1 0.002316602316602318\n",
      "bowl2 0.9976833976833978\n",
      "{'vanilla': 29, 'chocolate': 3}\n",
      "bowl1 0.0005355548943766738\n",
      "bowl2 0.9994644451056234\n",
      "{'vanilla': 29, 'chocolate': 2}\n",
      "bowl1 8.929900282780178e-05\n",
      "bowl2 0.9999107009971722\n",
      "{'vanilla': 29, 'chocolate': 1}\n",
      "bowl1 8.118750253710948e-06\n",
      "bowl2 0.9999918812497463\n",
      "{'vanilla': 29}\n"
     ]
    }
   ],
   "source": [
    "bowl1 = Bowl(dict(vanilla=30, chocolate=10))\n",
    "bowl2 = Bowl(dict(vanilla=20, chocolate=20))\n",
    "\n",
    "cookie = Cookie(dict(bowl1=bowl1, bowl2=bowl2))\n",
    "cookie.Update('vanilla')\n",
    "cookie.Print()\n",
    "cookie.Update('chocolate')\n",
    "cookie.Print()\n",
    "for i in range(9):\n",
    "    cookie.Update('chocolate')\n",
    "    cookie.Print()\n",
    "    print(bowl1)"
   ]
  },
  {
   "cell_type": "markdown",
   "metadata": {},
   "source": [
    "- bowl1: 30 vanilla, 10 choco\n",
    "- bowl2: 20 vanilla, 20 choco\n",
    "\n",
    "P(b1 | vanilla) = (P(b1)*P(vanilla | b1))/P(vanilla)\n",
    "\n",
    "first draw:\n",
    "- = (40/80 * 30/40)/(50/80)\n",
    "- = (1/2 * 3/4)/(5/8)\n",
    "- = (3/8)/(5/8)\n",
    "- = 3/5\n",
    "\n",
    "state:\n",
    "- bowl1: 29 vanilla, 10 choco\n",
    "- bowl2: 19 vanilla, 20 choco\n",
    "\n",
    "second draw:\n",
    "- = (39/78 * 29/39)/(49/78)\n",
    "- = ((39*29)/(78*39))/(49/78)\n",
    "- = (29/78)/(49/78)\n",
    "- = 29/49"
   ]
  },
  {
   "cell_type": "code",
   "execution_count": 87,
   "metadata": {},
   "outputs": [
    {
     "data": {
      "text/plain": [
       "0.5918367346938775"
      ]
     },
     "execution_count": 87,
     "metadata": {},
     "output_type": "execute_result"
    }
   ],
   "source": [
    "(39/79 * 29/39)/(49/79)"
   ]
  },
  {
   "cell_type": "code",
   "execution_count": null,
   "metadata": {},
   "outputs": [],
   "source": []
  }
 ],
 "metadata": {
  "kernelspec": {
   "display_name": "Python 3",
   "language": "python",
   "name": "python3"
  },
  "language_info": {
   "codemirror_mode": {
    "name": "ipython",
    "version": 3
   },
   "file_extension": ".py",
   "mimetype": "text/x-python",
   "name": "python",
   "nbconvert_exporter": "python",
   "pygments_lexer": "ipython3",
   "version": "3.6.5"
  }
 },
 "nbformat": 4,
 "nbformat_minor": 2
}
